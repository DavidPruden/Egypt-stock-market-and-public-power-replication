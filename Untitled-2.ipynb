{
 "cells": [
  {
   "cell_type": "markdown",
   "metadata": {},
   "source": []
  },
  {
   "cell_type": "code",
   "execution_count": 24,
   "metadata": {},
   "outputs": [],
   "source": [
    "def save_descriptive_stats_with_groups_to_file(df, variables, group_vars, output_file_path):\n",
    "    \"\"\"Calculate descriptive statistics and group means for multiple group variables, then save to a CSV file.\"\"\"\n",
    "    # Calculate overall descriptive statistics\n",
    "    stats_mean = df[variables].mean().rename('Mean')\n",
    "    stats_sd = df[variables].std().rename('SD')\n",
    "    stats_df = pd.concat([stats_mean, stats_sd], axis=1).transpose()\n",
    "\n",
    "    # Calculate group means for multiple group variables\n",
    "    group_means = calculate_group_means(df, group_vars, variables)\n",
    "\n",
    "    # Combine overall statistics with group means\n",
    "    combined_df = pd.concat([stats_df, group_means], sort=False)\n",
    "\n",
    "    # Ensure the output directory exists\n",
    "    output_dir = os.path.dirname(output_file_path)\n",
    "    os.makedirs(output_dir, exist_ok=True)\n",
    "\n",
    "    # Add an empty column at the beginning if your DataFrame needs an explicit placeholder\n",
    "    # This helps align the first data column properly with its header\n",
    "    combined_df.insert(0, '_', '')  # Adds an empty column as the first column, name it '_' or any placeholder\n",
    "\n",
    "    # Save the combined statistics to a CSV file, without the index\n",
    "    combined_df.to_csv(output_file_path, index=False)\n",
    "    print(f\"Descriptive statistics and group means saved to '{output_file_path}'.\")\n"
   ]
  },
  {
   "cell_type": "code",
   "execution_count": 30,
   "metadata": {},
   "outputs": [
    {
     "name": "stdout",
     "output_type": "stream",
     "text": [
      "Descriptive statistics and group means saved to '../Output/Table1PanelA_with_Multiple_Groups.csv'.\n"
     ]
    },
    {
     "name": "stderr",
     "output_type": "stream",
     "text": [
      "C:\\Users\\david\\AppData\\Local\\Temp\\ipykernel_75772\\701382652.py:8: FutureWarning: The default of observed=False is deprecated and will be changed to True in a future version of pandas. Pass observed=False to retain current behavior or observed=True to adopt the future default and silence this warning.\n",
      "  group_means = df.groupby(group_var)[variables].mean()\n",
      "C:\\Users\\david\\AppData\\Local\\Temp\\ipykernel_75772\\701382652.py:8: FutureWarning: The default of observed=False is deprecated and will be changed to True in a future version of pandas. Pass observed=False to retain current behavior or observed=True to adopt the future default and silence this warning.\n",
      "  group_means = df.groupby(group_var)[variables].mean()\n",
      "C:\\Users\\david\\AppData\\Local\\Temp\\ipykernel_75772\\701382652.py:8: FutureWarning: The default of observed=False is deprecated and will be changed to True in a future version of pandas. Pass observed=False to retain current behavior or observed=True to adopt the future default and silence this warning.\n",
      "  group_means = df.groupby(group_var)[variables].mean()\n",
      "C:\\Users\\david\\AppData\\Local\\Temp\\ipykernel_75772\\701382652.py:8: FutureWarning: The default of observed=False is deprecated and will be changed to True in a future version of pandas. Pass observed=False to retain current behavior or observed=True to adopt the future default and silence this warning.\n",
      "  group_means = df.groupby(group_var)[variables].mean()\n",
      "C:\\Users\\david\\AppData\\Local\\Temp\\ipykernel_75772\\701382652.py:8: FutureWarning: The default of observed=False is deprecated and will be changed to True in a future version of pandas. Pass observed=False to retain current behavior or observed=True to adopt the future default and silence this warning.\n",
      "  group_means = df.groupby(group_var)[variables].mean()\n",
      "C:\\Users\\david\\AppData\\Local\\Temp\\ipykernel_75772\\701382652.py:8: FutureWarning: The default of observed=False is deprecated and will be changed to True in a future version of pandas. Pass observed=False to retain current behavior or observed=True to adopt the future default and silence this warning.\n",
      "  group_means = df.groupby(group_var)[variables].mean()\n"
     ]
    }
   ],
   "source": [
    "import pandas as pd\n",
    "import os\n",
    "\n",
    "def calculate_group_means(df, group_vars, variables):\n",
    "    \"\"\"Calculate means for specific groups within the dataset for multiple group variables.\"\"\"\n",
    "    all_group_means = pd.DataFrame()\n",
    "    for group_var in group_vars:\n",
    "        group_means = df.groupby(group_var)[variables].mean()\n",
    "        # Rename columns to indicate these are group means for clarity\n",
    "        group_means = group_means.rename(columns=lambda x: f\"{x}_mean_by_{group_var}\")\n",
    "        # If all_group_means is empty, initialize it with group_means\n",
    "        if all_group_means.empty:\n",
    "            all_group_means = group_means\n",
    "        else:\n",
    "            # Concatenate along columns (axis=1) for different group_vars\n",
    "            all_group_means = pd.concat([all_group_means, group_means], axis=1, sort=False)\n",
    "    return all_group_means\n",
    "\n",
    "def save_descriptive_stats_with_groups_to_file(df, variables, group_vars, output_file_path):\n",
    "    \"\"\"Calculate descriptive statistics and group means for multiple group variables, then save to a CSV file.\"\"\"\n",
    "    # Calculate overall descriptive statistics\n",
    "    stats_mean = df[variables].mean().rename('Mean')\n",
    "    stats_sd = df[variables].std().rename('SD')\n",
    "    stats_df = pd.concat([stats_mean, stats_sd], axis=1).transpose()\n",
    "\n",
    "    # Calculate group means for multiple group variables\n",
    "    group_means = calculate_group_means(df, group_vars, variables)\n",
    "\n",
    "    # Combine overall statistics with group means\n",
    "    combined_df = pd.concat([stats_df, group_means], sort=False)\n",
    "\n",
    "    # Ensure the output directory exists\n",
    "    output_dir = os.path.dirname(output_file_path)\n",
    "    os.makedirs(output_dir, exist_ok=True)\n",
    "\n",
    "   \n",
    "    # Save the combined statistics to a CSV file, without the index\n",
    "    combined_df.to_csv(output_file_path, index=False)\n",
    "    print(f\"Descriptive statistics and group means saved to '{output_file_path}'.\")\n",
    "\n",
    "\n",
    "def main():\n",
    "    # Load the dataset\n",
    "    input_file_path = '../Input/summary_stats.dta'\n",
    "    df = pd.read_stata(input_file_path)\n",
    "\n",
    "    # Define the variables for which to calculate descriptive statistics\n",
    "    variables = ['cap_share', 'sizelevel', 'leverage', 'betamsciworld', 'betamsciegypt', 'unrestbeta']\n",
    "    \n",
    "    # Define the grouping variables as a list\n",
    "    group_vars = ['unconnected','connectedsum', 'ndpsum','military_ownershipsum','islamicsum','all']  # Replace with your actual grouping variables\n",
    "\n",
    "    # Specify the output file path\n",
    "    output_file_path = '../Output/Table1PanelA_with_Multiple_Groups.csv'\n",
    "\n",
    "    # Save descriptive statistics and group means to a file\n",
    "    save_descriptive_stats_with_groups_to_file(df, variables, group_vars, output_file_path)\n",
    "\n",
    "if __name__ == \"__main__\":\n",
    "    main()\n"
   ]
  },
  {
   "cell_type": "code",
   "execution_count": 29,
   "metadata": {},
   "outputs": [],
   "source": [
    "input_file = '../Output/Table1PanelA_with_Multiple_Groups.csv'\n",
    "cleaned_file = 'cleaned_output.csv'\n",
    "\n",
    "with open(input_file, 'r') as file, open(cleaned_file, 'w') as outfile:\n",
    "    for line in file:\n",
    "        # Replace sequences of commas with a single comma\n",
    "        cleaned_line = ','.join(filter(None, line.split(',')))\n",
    "        outfile.write(cleaned_line + '\\n')\n"
   ]
  }
 ],
 "metadata": {
  "kernelspec": {
   "display_name": "Python 3",
   "language": "python",
   "name": "python3"
  },
  "language_info": {
   "codemirror_mode": {
    "name": "ipython",
    "version": 3
   },
   "file_extension": ".py",
   "mimetype": "text/x-python",
   "name": "python",
   "nbconvert_exporter": "python",
   "pygments_lexer": "ipython3",
   "version": "3.11.8"
  }
 },
 "nbformat": 4,
 "nbformat_minor": 2
}
